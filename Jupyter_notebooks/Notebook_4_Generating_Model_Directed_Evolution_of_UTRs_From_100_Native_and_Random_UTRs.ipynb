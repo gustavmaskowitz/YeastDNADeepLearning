{
 "cells": [
  {
   "cell_type": "code",
   "execution_count": 1,
   "metadata": {},
   "outputs": [
    {
     "name": "stderr",
     "output_type": "stream",
     "text": [
      "Using Theano backend.\n"
     ]
    }
   ],
   "source": [
    "import pandas as pd\n",
    "import numpy as np\n",
    "from keras.models import Sequential\n",
    "from keras.layers.core import Dense, Activation, Flatten, Dropout\n",
    "from keras.layers.convolutional import Convolution2D\n",
    "from keras.optimizers import Adam\n",
    "import keras\n",
    "import theano\n",
    "import os"
   ]
  },
  {
   "cell_type": "markdown",
   "metadata": {},
   "source": [
    "## Create directories to save results:\n",
    "\n",
    "(if it doesn't already exist)"
   ]
  },
  {
   "cell_type": "code",
   "execution_count": 2,
   "metadata": {},
   "outputs": [],
   "source": [
    "results_dir = '../Results/EvolvedUTRs/'\n",
    "\n",
    "if not os.path.exists(results_dir):\n",
    "    os.mkdir(results_dir)\n",
    "\n",
    "\n",
    "fig_dir = '../Figures/EvolvedUTRs/'\n",
    "\n",
    "if not os.path.exists(fig_dir):\n",
    "    os.mkdir(fig_dir)"
   ]
  },
  {
   "cell_type": "markdown",
   "metadata": {},
   "source": [
    "## Load the model\n",
    "\n",
    "The directory that contains information about the model parameters"
   ]
  },
  {
   "cell_type": "code",
   "execution_count": 3,
   "metadata": {
    "collapsed": true
   },
   "outputs": [],
   "source": [
    "model_name = 'Random_UTR_CNN'\n",
    "model_params_dir = '../Results/{0}.Hyperparam.Opt/'.format(model_name)"
   ]
  },
  {
   "cell_type": "markdown",
   "metadata": {},
   "source": [
    "Load model"
   ]
  },
  {
   "cell_type": "code",
   "execution_count": 4,
   "metadata": {
    "collapsed": true
   },
   "outputs": [],
   "source": [
    "model = keras.models.model_from_json(open(model_params_dir + 'model_arch.json').read())\n",
    "model.load_weights(model_params_dir + 'model_weights.hdf5')\n",
    "model.compile(loss='mean_squared_error', optimizer='adam')"
   ]
  },
  {
   "cell_type": "markdown",
   "metadata": {},
   "source": [
    "## Functions for performing simple evolution\n",
    "\n",
    "For the sake of simplicity, we've only made point mutations -- i.e no sequence shuffling, deletions, insertions, etc."
   ]
  },
  {
   "cell_type": "markdown",
   "metadata": {},
   "source": [
    "Handy global variables:"
   ]
  },
  {
   "cell_type": "code",
   "execution_count": 5,
   "metadata": {
    "collapsed": true
   },
   "outputs": [],
   "source": [
    "bases = ['A','C','G','T']\n",
    "base_dict = dict(zip(bases, range(4)))"
   ]
  },
  {
   "cell_type": "markdown",
   "metadata": {},
   "source": [
    "One hot encoding of sequences:"
   ]
  },
  {
   "cell_type": "code",
   "execution_count": 6,
   "metadata": {
    "collapsed": true
   },
   "outputs": [],
   "source": [
    "def one_hot_encoding(seqs):\n",
    "    n = len(seqs)\n",
    "    total_width = 70\n",
    "    X = np.zeros((n, 1, 4, total_width))\n",
    "    \n",
    "    for i in range(n):\n",
    "        seq = seqs[i]\n",
    "        \n",
    "        for b in range(len(seq)):\n",
    "            X[i, 0, base_dict[seq[b]], 10 + 50 - len(seq) + b] = 1.\n",
    "            \n",
    "    return X.astype(theano.config.floatX)"
   ]
  },
  {
   "cell_type": "markdown",
   "metadata": {},
   "source": [
    "Make mutations in sequence:"
   ]
  },
  {
   "cell_type": "code",
   "execution_count": 7,
   "metadata": {
    "collapsed": true
   },
   "outputs": [],
   "source": [
    "def make_mutation(sequences, pos, base):\n",
    "    \n",
    "    return [seq[:pos] + base + seq[pos + 1:] if pos < len(seq) else seq for seq in sequences]"
   ]
  },
  {
   "cell_type": "markdown",
   "metadata": {},
   "source": [
    "Evolve sequences:\n",
    "    \n",
    "Here we make all possible mutations to a given sequence, ask the model to score each, and take the best one. We do this for 40 rounds."
   ]
  },
  {
   "cell_type": "code",
   "execution_count": 8,
   "metadata": {
    "collapsed": true
   },
   "outputs": [],
   "source": [
    "def evolve_seqs(seqs, rounds = 5):\n",
    "    all_seqs = {}\n",
    "    all_scores = {}\n",
    "    all_seqs[0] = seqs\n",
    "    all_scores[0] = model.predict(one_hot_encoding(seqs)).flatten()\n",
    "    \n",
    "    # march through every round of 'evolution'\n",
    "    for i in range(rounds):\n",
    "        Y_mut = {}\n",
    "        \n",
    "        # loop through the four bases\n",
    "        for base in bases:\n",
    "            \n",
    "            # we'll try each base at each position of the sequences\n",
    "            for position in range(50):\n",
    "                mut_seqs = make_mutation(seqs, position, base)                      # make mutated sequence \n",
    "                X_mut = one_hot_encoding(mut_seqs)                                  # one-hot-encoding of mutated sequence\n",
    "                Y_mut[base + '_' + str(position)] = model.predict(X_mut).flatten()  # ask the model what it thinks\n",
    "        \n",
    "        # Note which mutations are the best performing for each UTR\n",
    "        best_muts = pd.DataFrame(Y_mut).apply(np.argmax, axis = 1).values\n",
    "        \n",
    "        # Remake these mutations (an example value in best_muts looks would be \"T_30\", which tells us the nucleotide\n",
    "        # and the position)\n",
    "        seqs = [s[:int(m[2:])] + m[:1] + s[int(m[2:]) + 1:] for s, m in zip(seqs, best_muts)]\n",
    "        \n",
    "        all_seqs[i + 1] = seqs\n",
    "        all_scores[i + 1] = model.predict(one_hot_encoding(seqs)).flatten()\n",
    "        \n",
    "        # keep track of where we are\n",
    "        print i, pd.DataFrame(Y_mut).max(1).mean()\n",
    "        \n",
    "    return pd.DataFrame(all_seqs), pd.DataFrame(all_scores)"
   ]
  },
  {
   "cell_type": "markdown",
   "metadata": {},
   "source": [
    "# First, evolve native UTR sequences:"
   ]
  },
  {
   "cell_type": "markdown",
   "metadata": {},
   "source": [
    "## Load sequences"
   ]
  },
  {
   "cell_type": "code",
   "execution_count": 9,
   "metadata": {
    "collapsed": true
   },
   "outputs": [],
   "source": [
    "native_data = pd.read_csv('../Data/Native_UTRs.csv', index_col = 0)"
   ]
  },
  {
   "cell_type": "markdown",
   "metadata": {},
   "source": [
    "## Select UTRs to evolve\n",
    "\n",
    "We only want 100, so from those that we are most confident in (i.e. those with >100 reads at time point 0), we choose a range of expression levels."
   ]
  },
  {
   "cell_type": "code",
   "execution_count": 10,
   "metadata": {
    "collapsed": true
   },
   "outputs": [],
   "source": [
    "native_data = native_data[native_data.t0 > 100]"
   ]
  },
  {
   "cell_type": "markdown",
   "metadata": {},
   "source": [
    "Since we have quite a lot of UTRs still, we also choose to focus on sequences that come from 5' UTR \"chunks\" that originate from proximal to the start codon. Recall that to test native 5' UTR sequences in our HIS3 growth assay, we broke the sequences into \"chunks\" of 50 nucleotides or less. Thus, some of the segments originate from sequence adjacent to the start codon, and others come from regions further upstream."
   ]
  },
  {
   "cell_type": "code",
   "execution_count": 11,
   "metadata": {
    "collapsed": true
   },
   "outputs": [],
   "source": [
    "native_data = native_data.loc[native_data['UTR_name'].apply(lambda s: s.split(':')[-1]) == '0']"
   ]
  },
  {
   "cell_type": "markdown",
   "metadata": {},
   "source": [
    "Select UTRs with a range of expressions -- we don't only want to try to improve the worst or the best ones\n",
    "\n",
    "We do this by first making an array of 100 desired growth rates evenly spaced between the lowest and highest actual growth rates. To find a UTR that is closest to one of the desired growth rates, we take the absolute value of the difference between the UTR's growth rate and the desired growth rate. Then we take the UTR with the value closest to zero (i.e. it's growth rate is the closest to the desired rate)."
   ]
  },
  {
   "cell_type": "code",
   "execution_count": 12,
   "metadata": {
    "collapsed": true
   },
   "outputs": [],
   "source": [
    "# define the range of growth rates\n",
    "desired_growth_rates = np.linspace(native_data.growth_rate.min(),\n",
    "                                   native_data.growth_rate.max(),\n",
    "                                   106)\n",
    "\n",
    "selected_native_UTRs = []\n",
    "\n",
    "for i in range(len(desired_growth_rates)):\n",
    "    \n",
    "    # with each step we select the UTR with the growth rate closest to the desired growth rate\n",
    "    selected_native_UTRs.append(abs(native_data.growth_rate - desired_growth_rates[i]).argmin())\n",
    "    \n",
    "# just take the unique ones\n",
    "selected_native_UTRs = pd.Series(np.unique(selected_native_UTRs))"
   ]
  },
  {
   "cell_type": "code",
   "execution_count": 13,
   "metadata": {
    "collapsed": true
   },
   "outputs": [],
   "source": [
    "selected_native_UTRs_data = native_data.loc[selected_native_UTRs]"
   ]
  },
  {
   "cell_type": "markdown",
   "metadata": {},
   "source": [
    "## Actually perform the evolutions"
   ]
  },
  {
   "cell_type": "code",
   "execution_count": 14,
   "metadata": {},
   "outputs": [
    {
     "name": "stdout",
     "output_type": "stream",
     "text": [
      "0 1.38682425022\n"
     ]
    }
   ],
   "source": [
    "# make an array of the UTRs that we want to evolve\n",
    "seqs = selected_native_UTRs_data.UTR.values\n",
    "\n",
    "# run them through our evolve_seqs function for 40 rounds\n",
    "mut_native_seqs = evolve_seqs(seqs, rounds = 1)"
   ]
  },
  {
   "cell_type": "markdown",
   "metadata": {},
   "source": [
    "## Organize the data"
   ]
  },
  {
   "cell_type": "markdown",
   "metadata": {},
   "source": [
    "reshape and combine the dataframes with the sequences and the predicted growth rates"
   ]
  },
  {
   "cell_type": "code",
   "execution_count": 15,
   "metadata": {},
   "outputs": [],
   "source": [
    "# I apologize in advance, this is pretty unreadable\n",
    "\n",
    "# reshape the dataframes. Transpose, then convert into a Multiindex, then convert the index into new columns\n",
    "seqs_df = mut_native_seqs[0].T.unstack().reset_index()\n",
    "scores_df = mut_native_seqs[1].T.unstack().reset_index()\n",
    "\n",
    "# rename the columns so that the names are somewhat descriptive\n",
    "seqs_df.rename(columns = {'level_0' : 'UTR_id', 'level_1' : 'Round', 0 : 'Evolved_Seq'}, inplace = True)\n",
    "scores_df.rename(columns = {'level_0' : 'UTR_id', 'level_1' : 'Round', 0 : 'Pred_Growth'}, inplace = True)\n",
    "\n",
    "# merge two datasets, only include columns that aren't redundant\n",
    "cols_to_use = scores_df.columns.difference(seqs_df.columns) # identify non-redundant columns\n",
    "seqs_scores = pd.merge(seqs_df, scores_df[cols_to_use], right_index = True, left_index = True)"
   ]
  },
  {
   "cell_type": "markdown",
   "metadata": {},
   "source": [
    "add Gene/UTR name information"
   ]
  },
  {
   "cell_type": "code",
   "execution_count": 16,
   "metadata": {},
   "outputs": [],
   "source": [
    "index_to_name = dict(zip(range(100), selected_native_UTRs_data.UTR_name.values))\n",
    "\n",
    "seqs_scores['UTR_name'] = seqs_scores['UTR_id'].map(index_to_name)"
   ]
  },
  {
   "cell_type": "markdown",
   "metadata": {},
   "source": [
    "add input sequence"
   ]
  },
  {
   "cell_type": "code",
   "execution_count": 17,
   "metadata": {},
   "outputs": [],
   "source": [
    "index_to_input_seq = dict(zip(range(100), seqs))\n",
    "\n",
    "seqs_scores['Starting_Seq'] = seqs_scores['UTR_id'].map(index_to_input_seq)"
   ]
  },
  {
   "cell_type": "markdown",
   "metadata": {},
   "source": [
    "add initial measured growth rate"
   ]
  },
  {
   "cell_type": "code",
   "execution_count": 18,
   "metadata": {
    "collapsed": true
   },
   "outputs": [],
   "source": [
    "index_to_measured_growth = dict(zip(range(100), selected_native_UTRs_data.growth_rate.values))\n",
    "\n",
    "seqs_scores['Round0_Measured_Growth'] = seqs_scores['UTR_id'].map(index_to_measured_growth)"
   ]
  },
  {
   "cell_type": "markdown",
   "metadata": {},
   "source": [
    "## Save data"
   ]
  },
  {
   "cell_type": "code",
   "execution_count": 19,
   "metadata": {
    "collapsed": true
   },
   "outputs": [],
   "source": [
    "seqs_scores.to_csv(results_dir + 'Native_Evolved_Seqs.csv')"
   ]
  },
  {
   "cell_type": "markdown",
   "metadata": {},
   "source": [
    "# ____________ ___________ ______"
   ]
  },
  {
   "cell_type": "markdown",
   "metadata": {},
   "source": [
    "# Make Super UTRs from random library:\n",
    "\n",
    "Here, we just go through all the same steps we just performed with the native library"
   ]
  },
  {
   "cell_type": "markdown",
   "metadata": {},
   "source": [
    "## Load data"
   ]
  },
  {
   "cell_type": "code",
   "execution_count": 20,
   "metadata": {
    "collapsed": true
   },
   "outputs": [],
   "source": [
    "random_data = pd.read_csv('../Data/Random_UTRs.csv', index_col=0)"
   ]
  },
  {
   "cell_type": "markdown",
   "metadata": {},
   "source": [
    "## As with the native library, we just want the UTRs that we're most confident about"
   ]
  },
  {
   "cell_type": "code",
   "execution_count": 21,
   "metadata": {
    "collapsed": true
   },
   "outputs": [],
   "source": [
    "random_data = random_data[random_data.t0 > 100]"
   ]
  },
  {
   "cell_type": "code",
   "execution_count": 22,
   "metadata": {
    "collapsed": true
   },
   "outputs": [],
   "source": [
    "# define the range of growth rates\n",
    "desired_growth_rates = np.linspace(random_data.growth_rate.min(),\n",
    "                                   random_data.growth_rate.max(),\n",
    "                                   100) # pay attention to this last number, we're choosing it just based on how\n",
    "                                        # many sequences we get out at the end. As you may have noticed, we chose\n",
    "                                        # 106 in the case of the native UTRs\n",
    "\n",
    "selected_random_UTRs = []\n",
    "\n",
    "for i in range(len(desired_growth_rates)):\n",
    "    \n",
    "    # with each step we select the UTR with the growth rate closest to the desired growth rate\n",
    "    selected_random_UTRs.append(abs(random_data.growth_rate - desired_growth_rates[i]).argmin())\n",
    "    \n",
    "# just take the unique ones\n",
    "selected_random_UTRs = pd.Series(np.unique(selected_random_UTRs))"
   ]
  },
  {
   "cell_type": "code",
   "execution_count": 23,
   "metadata": {
    "collapsed": true
   },
   "outputs": [],
   "source": [
    "selected_random_UTRs_data = random_data.loc[selected_random_UTRs]"
   ]
  },
  {
   "cell_type": "code",
   "execution_count": 24,
   "metadata": {},
   "outputs": [
    {
     "name": "stdout",
     "output_type": "stream",
     "text": [
      "0 -0.234902635217\n"
     ]
    }
   ],
   "source": [
    "# make an array of the UTRs that we want to evolve\n",
    "seqs = selected_random_UTRs_data.UTR.values\n",
    "\n",
    "# run them through our evolve_seqs function for 40 rounds\n",
    "mut_random_seqs = evolve_seqs(seqs, rounds = 1)"
   ]
  },
  {
   "cell_type": "markdown",
   "metadata": {},
   "source": [
    "## Organize the data"
   ]
  },
  {
   "cell_type": "markdown",
   "metadata": {},
   "source": [
    "reshape and combine the dataframes with the sequences and the predicted growth rates"
   ]
  },
  {
   "cell_type": "code",
   "execution_count": 25,
   "metadata": {},
   "outputs": [],
   "source": [
    "# reshape the dataframes. Transpose, then convert into a Multiindex, then convert the index into new columns\n",
    "ran_seqs_df = mut_random_seqs[0].T.unstack().reset_index()\n",
    "ran_scores_df = mut_random_seqs[1].T.unstack().reset_index()\n",
    "\n",
    "# rename the columns so that the names are somewhat descriptive\n",
    "ran_seqs_df.rename(columns = {'level_0' : 'UTR_id', 'level_1' : 'Round', 0 : 'Evolved_Seq'}, inplace = True)\n",
    "ran_scores_df.rename(columns = {'level_0' : 'UTR_id', 'level_1' : 'Round', 0 : 'Pred_Growth'}, inplace = True)\n",
    "\n",
    "# merge two datasets, only include columns that aren't redundant\n",
    "cols_to_use = ran_scores_df.columns.difference(ran_seqs_df.columns) # identify non-redundant columns\n",
    "ran_seqs_scores = pd.merge(ran_seqs_df, ran_scores_df[cols_to_use], right_index = True, left_index = True)"
   ]
  },
  {
   "cell_type": "markdown",
   "metadata": {},
   "source": [
    "add input sequence"
   ]
  },
  {
   "cell_type": "code",
   "execution_count": 26,
   "metadata": {
    "collapsed": true
   },
   "outputs": [],
   "source": [
    "index_to_input_seq = dict(zip(range(100), seqs))\n",
    "\n",
    "ran_seqs_scores['Starting_Seq'] = ran_seqs_scores['UTR_id'].map(index_to_input_seq)"
   ]
  },
  {
   "cell_type": "markdown",
   "metadata": {},
   "source": [
    "add initial measured growth rate"
   ]
  },
  {
   "cell_type": "code",
   "execution_count": 27,
   "metadata": {
    "collapsed": true
   },
   "outputs": [],
   "source": [
    "index_to_measured_growth = dict(zip(range(100), selected_random_UTRs_data.growth_rate.values))\n",
    "\n",
    "ran_seqs_scores['Round0_Measured_Growth'] = ran_seqs_scores['UTR_id'].map(index_to_measured_growth)"
   ]
  },
  {
   "cell_type": "markdown",
   "metadata": {},
   "source": [
    "## Save data"
   ]
  },
  {
   "cell_type": "code",
   "execution_count": 28,
   "metadata": {
    "collapsed": true
   },
   "outputs": [],
   "source": [
    "ran_seqs_scores.to_csv(results_dir + 'Random_Evolved_Seqs.csv')"
   ]
  }
 ],
 "metadata": {
  "kernelspec": {
   "display_name": "Python 2",
   "language": "python",
   "name": "python2"
  },
  "language_info": {
   "codemirror_mode": {
    "name": "ipython",
    "version": 2
   },
   "file_extension": ".py",
   "mimetype": "text/x-python",
   "name": "python",
   "nbconvert_exporter": "python",
   "pygments_lexer": "ipython2",
   "version": "2.7.13"
  }
 },
 "nbformat": 4,
 "nbformat_minor": 1
}
